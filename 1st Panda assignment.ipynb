{
 "cells": [
  {
   "cell_type": "code",
   "execution_count": 1,
   "id": "b5919a20-f821-4d1f-800d-043e27b78201",
   "metadata": {},
   "outputs": [
    {
     "name": "stdout",
     "output_type": "stream",
     "text": [
      "0     4\n",
      "1     8\n",
      "2    15\n",
      "3    16\n",
      "4    23\n",
      "5    42\n",
      "dtype: int64\n"
     ]
    }
   ],
   "source": [
    "#Q-1 Create a Pandas Series that contains the following data: 4, 8, 15, 16, 23, and 42. Then, print the series.\n",
    "import pandas as pd\n",
    "df = pd.Series([4,8,15,16,23,42])\n",
    "print (df)"
   ]
  },
  {
   "cell_type": "code",
   "execution_count": 2,
   "id": "bc730fb2-7a6b-4b4a-a3bc-35c5bb4d9879",
   "metadata": {},
   "outputs": [
    {
     "name": "stdout",
     "output_type": "stream",
     "text": [
      "0         1\n",
      "1         2\n",
      "2         5\n",
      "3         4\n",
      "4         8\n",
      "5      True\n",
      "6         5\n",
      "7    Banana\n",
      "8     apple\n",
      "9      None\n",
      "dtype: object\n"
     ]
    }
   ],
   "source": [
    "#Q-2 Create a variable of list type containing 10 elements in it, and apply pandas.Series function on the variable print it.\n",
    "Variable_list = [1,2,5,4,8,True, 5,\"Banana\", \"apple\", None]\n",
    "s = pd.Series(Variable_list)\n",
    "print(s)"
   ]
  },
  {
   "cell_type": "code",
   "execution_count": 3,
   "id": "7bb8d24d-a43a-41ae-a62b-97de4f678fc4",
   "metadata": {},
   "outputs": [
    {
     "name": "stdout",
     "output_type": "stream",
     "text": [
      "    Name  Age  Gender\n",
      "1  Alice   25  Female\n",
      "2    Bob   30    Male\n",
      "3  Clire   27  Female\n"
     ]
    }
   ],
   "source": [
    "# Q3. Create a Pandas DataFrame that contains the following data:\n",
    "df = pd.DataFrame( \n",
    "            {\"Name\": [\"Alice\", \"Bob\",\"Clire\" ],\n",
    "             \"Age\" : [25,30,27],\n",
    "             \"Gender\": [\"Female\", \"Male\", \"Female\"]},\n",
    "                index = [1,2,3]                    )\n",
    "print(df)"
   ]
  },
  {
   "cell_type": "markdown",
   "id": "212f9efb-789d-44bf-ac62-6d889eddc2a8",
   "metadata": {},
   "source": [
    "## Q4. What is ‘DataFrame’ in pandas and how is it different from pandas.series? Explain with an example.\n",
    "\n",
    "\n",
    "In simpler terms:\n",
    "\n",
    "Think of a Series as a single list with labels.\n",
    "Think of a DataFrame as a collection of Series objects (like multiple lists with labels) organized into rows and columns, forming a table-like structure.\n"
   ]
  },
  {
   "cell_type": "markdown",
   "id": "c18f44d8-4f13-41bd-bb90-123ff3b4e6fe",
   "metadata": {},
   "source": [
    "## Q5. What are some common functions you can use to manipulate data in a Pandas DataFrame? Can you give an example of when you might use one of these functions?\n",
    "\n",
    "Here are some common functions you can use to manipulate data in a Pandas DataFrame, along with examples of when you might use them:\n",
    "\n",
    "1. Selection:\n",
    "\n",
    ".loc[]: Selects rows based on label (index). Useful for selecting specific rows by their index values.\n",
    "\n",
    "Python\n",
    "df = pd.DataFrame({'Name': ['Alice', 'Bob', 'Charlie', 'David'], 'Age': [25, 30, 22, 38]})\n",
    "### Select the row with index 2 (Charlie)\n",
    "row_by_loc = df.loc[2]\n",
    "print(row_by_loc)\n",
    "Use code with caution.\n",
    "content_copy\n",
    ".iloc[]: Selects rows based on position (integer-based indexing). Useful for selecting rows by their position in the DataFrame.\n",
    "\n",
    "Python\n",
    "### Select the second row (Bob)\n",
    "second_row = df.iloc[1]\n",
    "print(second_row)\n",
    "Use code with caution.\n",
    "content_copy\n",
    "boolean indexing: Selects rows based on a condition. Useful for filtering rows based on specific criteria.\n",
    "\n",
    "Python\n",
    "### Select rows where age is greater than 30\n",
    "filtered_df = df[df['Age'] > 30]\n",
    "print(filtered_df)\n",
    "Use code with caution.\n",
    "content_copy\n",
    "2. Transformation:\n",
    "\n",
    ".head(): Returns the first n rows of the DataFrame. Useful for getting a quick glimpse of the DataFrame's contents.\n",
    "\n",
    "Python\n",
    "### View the first 2 rows\n",
    "first_two_rows = df.head(2)\n",
    "print(first_two_rows)\n",
    "Use code with caution.\n",
    "content_copy\n",
    ".tail(): Returns the last n rows of the DataFrame. Useful for checking the end of the data.\n",
    "\n",
    "Python\n",
    "### View the last row\n",
    "last_row = df.tail(1)\n",
    "print(last_row)\n",
    "Use code with caution.\n",
    "content_copy\n",
    ".sort_values(): Sorts the DataFrame by a specific column. Useful for organizing data based on a particular variable.\n",
    "\n",
    "Python\n",
    "### Sort by age in ascending order\n",
    "sorted_by_age = df.sort_values(by='Age')\n",
    "print(sorted_by_age)\n",
    "Use code with caution.\n",
    "content_copy\n",
    "3. Aggregation:\n",
    "\n",
    ".sum(): Calculates the sum of each column. Useful for finding total values in numerical columns.\n",
    "\n",
    "Python\n",
    "### Calculate the total age\n",
    "total_age = df['Age'].sum()\n",
    "print(total_age)\n",
    "Use code with caution.\n",
    "content_copy\n",
    ".mean(): Calculates the mean (average) of each column. Useful for summarizing numerical data.\n",
    "\n",
    "Python\n",
    "### Calculate the average age\n",
    "average_age = df['Age'].mean()\n",
    "print(average_age)\n",
    "Use code with caution.\n",
    "content_copy\n",
    ".describe(): Generates descriptive statistics (mean, median, standard deviation etc.) for numerical columns. Useful for getting a quick overview of the distribution of numerical data.\n",
    "\n",
    "Python\n",
    "### Get descriptive statistics for all numerical columns\n",
    "descriptive_stats = df.describe()\n",
    "print(descriptive_stats)\n",
    "\n"
   ]
  },
  {
   "cell_type": "markdown",
   "id": "bbf14008-43e8-43a2-9987-d4fc78026fc6",
   "metadata": {},
   "source": [
    "## Q6. Which of the following is mutable in nature Series, DataFrame, Panel?\n",
    "\n",
    "Series: Mutable. You can modify elements, add or remove elements, and change their labels after creating a Series object.\n",
    "\n",
    "DataFrame: Mutable. You can modify elements within a DataFrame, add or remove columns and rows, and change their labels.\n",
    "\n",
    "Panel (deprecated): Less mutable. While technically mutable in older pandas versions, Panels are not recommended for recent versions due to limitations in modifying their structure efficiently. It's generally advised to use alternative approaches like multi-indexing in DataFrames for tasks that Panels were previously used for.\n",
    "\n",
    "\n"
   ]
  },
  {
   "cell_type": "markdown",
   "id": "22d83f21-158a-4e77-985c-cffe108e22d5",
   "metadata": {},
   "source": [
    "## Q7. Create a DataFrame using multiple Series. Explain with an example."
   ]
  },
  {
   "cell_type": "code",
   "execution_count": 4,
   "id": "01e5cf5b-9a3b-4b1e-bc06-188b0144eedd",
   "metadata": {},
   "outputs": [
    {
     "name": "stdout",
     "output_type": "stream",
     "text": [
      "      Name  Roll_no     City\n",
      "0     Golu        2  Panipat\n",
      "1  Chandan        5    delhi\n",
      "2  Parvati        6      Goa\n",
      "3      Ram        8  sonipat\n",
      "4    Rajan        3   Mumbai\n",
      "5    Harsh        4  Gurgaon\n"
     ]
    }
   ],
   "source": [
    "#creating a series\n",
    "Name = [\"Golu\",\"Chandan\",\"Parvati\",\"Ram\",\"Rajan\",\"Harsh\"]\n",
    "Roll_no = [2,5,6,8,3,4,]\n",
    "City = [\"Panipat\", \"delhi\", \"Goa\", \"sonipat\" ,\"Mumbai\", \"Gurgaon\"]\n",
    "#combining series into dictonary\n",
    "data = {\n",
    "    'Name': Name,\n",
    "    'Roll_no' : Roll_no,\n",
    "    'City': City\n",
    "}\n",
    "#Create a DataFrame from the dictonary\n",
    "df = pd.DataFrame(data)\n",
    "print(df)"
   ]
  },
  {
   "cell_type": "code",
   "execution_count": null,
   "id": "3b1bd7e7-7c64-46b5-820e-f105dbb9fa05",
   "metadata": {},
   "outputs": [],
   "source": []
  }
 ],
 "metadata": {
  "kernelspec": {
   "display_name": "Python 3 (ipykernel)",
   "language": "python",
   "name": "python3"
  },
  "language_info": {
   "codemirror_mode": {
    "name": "ipython",
    "version": 3
   },
   "file_extension": ".py",
   "mimetype": "text/x-python",
   "name": "python",
   "nbconvert_exporter": "python",
   "pygments_lexer": "ipython3",
   "version": "3.11.7"
  }
 },
 "nbformat": 4,
 "nbformat_minor": 5
}
